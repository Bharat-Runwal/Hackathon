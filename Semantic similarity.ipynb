{
 "cells": [
  {
   "cell_type": "markdown",
   "metadata": {},
   "source": [
    "# Semantic Similarity using word vectors as features "
   ]
  },
  {
   "cell_type": "markdown",
   "metadata": {},
   "source": [
    "### Path to Glove vector pretrained on tweets"
   ]
  },
  {
   "cell_type": "code",
   "execution_count": 1,
   "metadata": {},
   "outputs": [],
   "source": [
    "path = \"glove.twitter.27B/glove.twitter.27B.100d.txt\""
   ]
  },
  {
   "cell_type": "markdown",
   "metadata": {},
   "source": [
    "### Imports"
   ]
  },
  {
   "cell_type": "code",
   "execution_count": 2,
   "metadata": {},
   "outputs": [],
   "source": [
    "import numpy as np\n",
    "import gensim\n",
    "import math\n",
    "import nltk\n",
    "import string\n",
    "import pandas as pd \n",
    "stopword = nltk.corpus.stopwords.words('english')"
   ]
  },
  {
   "cell_type": "markdown",
   "metadata": {},
   "source": [
    "### Load Glove Model "
   ]
  },
  {
   "cell_type": "code",
   "execution_count": 3,
   "metadata": {},
   "outputs": [],
   "source": [
    "\n",
    "def loadGloveModel(File):\n",
    "    print(\"Loading Glove Model\")\n",
    "    f = open(File,'r',encoding='utf-8')\n",
    "    gloveModel = {}\n",
    "    for line in f:\n",
    "        splitLines = line.split()\n",
    "        word = splitLines[0]\n",
    "        wordEmbedding = np.array([float(value) for value in splitLines[1:]])\n",
    "        gloveModel[word] = wordEmbedding\n",
    "    print(len(gloveModel),\" words loaded!\")\n",
    "    return gloveModel"
   ]
  },
  {
   "cell_type": "code",
   "execution_count": null,
   "metadata": {},
   "outputs": [
    {
     "name": "stdout",
     "output_type": "stream",
     "text": [
      "Loading Glove Model\n"
     ]
    }
   ],
   "source": [
    "model =loadGloveModel(path)"
   ]
  },
  {
   "cell_type": "markdown",
   "metadata": {},
   "source": [
    "### Preprocessing of sentences"
   ]
  },
  {
   "cell_type": "code",
   "execution_count": null,
   "metadata": {},
   "outputs": [],
   "source": [
    "def remove_punct(text):\n",
    "    text_nopunct = \"\".join([char for char in text if char not in string.punctuation])# It will discard all punctuations\n",
    "    return text_nopunct"
   ]
  },
  {
   "cell_type": "code",
   "execution_count": null,
   "metadata": {},
   "outputs": [],
   "source": [
    "def remove_stopwords_low(sent):\n",
    "    tokenized_list = sent.split(\" \")\n",
    "    text = [word for word in tokenized_list if word not in stopword]# To remove all stopwords\n",
    "    sent = \" \".join([word.lower() for word in text])\n",
    "    return sent"
   ]
  },
  {
   "cell_type": "markdown",
   "metadata": {},
   "source": [
    "###  Average Similarity score"
   ]
  },
  {
   "cell_type": "code",
   "execution_count": null,
   "metadata": {},
   "outputs": [],
   "source": [
    "def cosine_similarity(v1,v2):\n",
    "    \"Function to compute cosine similarity of v1 and v2: (v1 dot v2)/{||v1||*||v2||)\"\n",
    "    xx, xy, yy = 0, 0, 0\n",
    "    for i in range(len(v1)):\n",
    "        x = v1[i]; y = v2[i]\n",
    "        xx += x*x\n",
    "        yy += y*y\n",
    "        xy += x*y\n",
    "    return xy/math.sqrt(xx*yy)"
   ]
  },
  {
   "cell_type": "code",
   "execution_count": null,
   "metadata": {},
   "outputs": [],
   "source": [
    "def avg_sim(sentence1,sentence2):\n",
    "    avg1 = [0] * (100)\n",
    "    avg2 = [0] * (100)\n",
    "\n",
    "    num_words_sentence1 = len(sentence1.split(\" \"))\n",
    "    num_words_sentence2 = len(sentence2.split(\" \"))\n",
    "\n",
    "    for w in sentence1.split(\" \"):\n",
    "          avg1 += model[w.lower()]\n",
    "\n",
    "    for w in sentence2.split(\" \"):\n",
    "        avg2 += model[w.lower()]\n",
    "\n",
    "    sim=cosine_similarity(avg1/num_words_sentence1,avg2/num_words_sentence1)\n",
    "    return (sim)"
   ]
  },
  {
   "cell_type": "markdown",
   "metadata": {},
   "source": [
    "### Example"
   ]
  },
  {
   "cell_type": "code",
   "execution_count": null,
   "metadata": {},
   "outputs": [],
   "source": [
    "sample1_1 = \"I love animals\"\n",
    "sample1_2 = \"I love pets\"\n",
    "\n",
    "\n",
    "sample2_1 = \"Animal lover\"\n",
    "sample2_2 = \"drive car\"\n",
    "\n",
    "## PREPROCESSING\n",
    "\n",
    "sample1_1 = remove_stopwords_low(sample1_1)\n",
    "sample1_2 = remove_stopwords_low(sample1_2)\n",
    "sample2_1 = remove_stopwords_low(sample2_1)\n",
    "sample2_2 = remove_stopwords_low(sample2_2)\n",
    "\n",
    "\n",
    "## SIMILARITY\n",
    "SIM =[avg_sim(sample1_1,sample1_2),avg_sim(sample2_1,sample2_2)]"
   ]
  },
  {
   "cell_type": "markdown",
   "metadata": {},
   "source": [
    "### Creating Dataframe"
   ]
  },
  {
   "cell_type": "code",
   "execution_count": null,
   "metadata": {},
   "outputs": [],
   "source": [
    "sample1 = [sample1_1,sample2_1]\n",
    "sample2= [sample1_2,sample2_2]\n",
    "data = {\n",
    "    \"sent1\":sample1,\n",
    "    \"sent2\":sample2,\n",
    "    \"similarity\":SIM\n",
    "}\n",
    "df = pd.DataFrame(data , columns=[\"sent1\",\"sent2\",\"similarity\"])\n",
    "\n",
    "df"
   ]
  }
 ],
 "metadata": {
  "kernelspec": {
   "display_name": "Python 3",
   "language": "python",
   "name": "python3"
  },
  "language_info": {
   "codemirror_mode": {
    "name": "ipython",
    "version": 3
   },
   "file_extension": ".py",
   "mimetype": "text/x-python",
   "name": "python",
   "nbconvert_exporter": "python",
   "pygments_lexer": "ipython3",
   "version": "3.7.0"
  }
 },
 "nbformat": 4,
 "nbformat_minor": 4
}
