{
 "cells": [
  {
   "cell_type": "markdown",
   "metadata": {},
   "source": [
    "# Semantic Similarity using word vectors as features "
   ]
  },
  {
   "cell_type": "markdown",
   "metadata": {},
   "source": [
    "### Path to Glove vector pretrained on tweets"
   ]
  },
  {
   "cell_type": "code",
   "execution_count": 1,
   "metadata": {},
   "outputs": [],
   "source": [
    "path = \"glove.twitter.27B/glove.twitter.27B.100d.txt\""
   ]
  },
  {
   "cell_type": "markdown",
   "metadata": {},
   "source": [
    "### Imports"
   ]
  },
  {
   "cell_type": "code",
   "execution_count": 2,
   "metadata": {},
   "outputs": [],
   "source": [
    "import numpy as np\n",
    "import gensim\n",
    "import math\n",
    "import nltk\n",
    "import string\n",
    "import pandas as pd \n",
    "from nltk.stem import WordNetLemmatizer\n",
    "stopword = nltk.corpus.stopwords.words('english')"
   ]
  },
  {
   "cell_type": "markdown",
   "metadata": {},
   "source": [
    "### Load Glove Model "
   ]
  },
  {
   "cell_type": "code",
   "execution_count": 3,
   "metadata": {},
   "outputs": [],
   "source": [
    "\n",
    "def loadGloveModel(File):\n",
    "    print(\"Loading Glove Model\")\n",
    "    f = open(File,'r',encoding='utf-8')\n",
    "    gloveModel = {}\n",
    "    for line in f:\n",
    "        splitLines = line.split()\n",
    "        word = splitLines[0]\n",
    "        wordEmbedding = np.array([float(value) for value in splitLines[1:]])\n",
    "        gloveModel[word] = wordEmbedding\n",
    "    print(len(gloveModel),\" words loaded!\")\n",
    "    return gloveModel"
   ]
  },
  {
   "cell_type": "code",
   "execution_count": 4,
   "metadata": {},
   "outputs": [
    {
     "name": "stdout",
     "output_type": "stream",
     "text": [
      "Loading Glove Model\n",
      "1193514  words loaded!\n"
     ]
    }
   ],
   "source": [
    "model =loadGloveModel(path)"
   ]
  },
  {
   "cell_type": "markdown",
   "metadata": {},
   "source": [
    "### Preprocessing of sentences"
   ]
  },
  {
   "cell_type": "code",
   "execution_count": 5,
   "metadata": {},
   "outputs": [],
   "source": [
    "def remove_punct(text):\n",
    "    text_nopunct = \"\".join([char for char in text if char not in string.punctuation])# It will discard all punctuations\n",
    "    return text_nopunct"
   ]
  },
  {
   "cell_type": "code",
   "execution_count": 6,
   "metadata": {},
   "outputs": [],
   "source": [
    "def remove_stopwords_low(sent):\n",
    "    tokenized_list = sent.split(\" \")\n",
    "    text = [word for word in tokenized_list if word not in stopword]# To remove all stopwords\n",
    "    sent = \" \".join([word.lower() for word in text])\n",
    "    return sent"
   ]
  },
  {
   "cell_type": "code",
   "execution_count": 21,
   "metadata": {},
   "outputs": [],
   "source": [
    "wn = nltk.WordNetLemmatizer()\n",
    "\n",
    "def lemmatize(sent):\n",
    "    tokenized_list = sent.split(\" \")\n",
    "    text = \" \".join([wn.lemmatize(word) for word in tokenized_list])\n",
    "    return text"
   ]
  },
  {
   "cell_type": "code",
   "execution_count": 22,
   "metadata": {},
   "outputs": [],
   "source": [
    "def preprocess(sent):\n",
    "    sent = remove_stopwords_low(sent)\n",
    "    sent = remove_punct(sent)\n",
    "    sent = lemmatize(sent)\n",
    "    \n",
    "    return sent"
   ]
  },
  {
   "cell_type": "markdown",
   "metadata": {},
   "source": [
    "###  Average Similarity score"
   ]
  },
  {
   "cell_type": "code",
   "execution_count": 7,
   "metadata": {},
   "outputs": [],
   "source": [
    "def cosine_similarity(v1,v2):\n",
    "    \"Function to compute cosine similarity of v1 and v2: (v1 dot v2)/{||v1||*||v2||)\"\n",
    "    xx, xy, yy = 0, 0, 0\n",
    "    for i in range(len(v1)):\n",
    "        x = v1[i]; y = v2[i]\n",
    "        xx += x*x\n",
    "        yy += y*y\n",
    "        xy += x*y\n",
    "    return xy/math.sqrt(xx*yy)"
   ]
  },
  {
   "cell_type": "code",
   "execution_count": 8,
   "metadata": {},
   "outputs": [],
   "source": [
    "def avg_sim(sentence1,sentence2):\n",
    "    avg1 = [0] * (100)\n",
    "    avg2 = [0] * (100)\n",
    "\n",
    "    num_words_sentence1 = len(sentence1.split(\" \"))\n",
    "    num_words_sentence2 = len(sentence2.split(\" \"))\n",
    "\n",
    "    for w in sentence1.split(\" \"):\n",
    "          avg1 += model[w.lower()]\n",
    "\n",
    "    for w in sentence2.split(\" \"):\n",
    "        avg2 += model[w.lower()]\n",
    "\n",
    "    sim=cosine_similarity(avg1/num_words_sentence1,avg2/num_words_sentence1)\n",
    "    return (sim)"
   ]
  },
  {
   "cell_type": "markdown",
   "metadata": {},
   "source": [
    "### Example"
   ]
  },
  {
   "cell_type": "code",
   "execution_count": 23,
   "metadata": {},
   "outputs": [],
   "source": [
    "sample1_1 = \"I love animals\"\n",
    "sample1_2 = \"I love pets\"\n",
    "\n",
    "\n",
    "sample2_1 = \"Animal lover\"\n",
    "sample2_2 = \"drive car\"\n",
    "\n",
    "## PREPROCESSING\n",
    "\n",
    "samples1_1 = preprocess(sample1_1)\n",
    "samples1_2 = preprocess(sample1_2)\n",
    "samples2_1 = preprocess(sample2_1)\n",
    "samples2_2 = preprocess(sample2_2)\n",
    "\n",
    "## SIMILARITY\n",
    "SIM =[avg_sim(samples1_1,sample1_2),avg_sim(samples2_1,samples2_2)]"
   ]
  },
  {
   "cell_type": "markdown",
   "metadata": {},
   "source": [
    "### Creating Dataframe"
   ]
  },
  {
   "cell_type": "code",
   "execution_count": 24,
   "metadata": {},
   "outputs": [
    {
     "data": {
      "text/html": [
       "<div>\n",
       "<style scoped>\n",
       "    .dataframe tbody tr th:only-of-type {\n",
       "        vertical-align: middle;\n",
       "    }\n",
       "\n",
       "    .dataframe tbody tr th {\n",
       "        vertical-align: top;\n",
       "    }\n",
       "\n",
       "    .dataframe thead th {\n",
       "        text-align: right;\n",
       "    }\n",
       "</style>\n",
       "<table border=\"1\" class=\"dataframe\">\n",
       "  <thead>\n",
       "    <tr style=\"text-align: right;\">\n",
       "      <th></th>\n",
       "      <th>sent1</th>\n",
       "      <th>sent2</th>\n",
       "      <th>similarity</th>\n",
       "    </tr>\n",
       "  </thead>\n",
       "  <tbody>\n",
       "    <tr>\n",
       "      <th>0</th>\n",
       "      <td>I love animals</td>\n",
       "      <td>I love pets</td>\n",
       "      <td>0.949795</td>\n",
       "    </tr>\n",
       "    <tr>\n",
       "      <th>1</th>\n",
       "      <td>Animal lover</td>\n",
       "      <td>drive car</td>\n",
       "      <td>0.466392</td>\n",
       "    </tr>\n",
       "  </tbody>\n",
       "</table>\n",
       "</div>"
      ],
      "text/plain": [
       "            sent1        sent2  similarity\n",
       "0  I love animals  I love pets    0.949795\n",
       "1    Animal lover    drive car    0.466392"
      ]
     },
     "execution_count": 24,
     "metadata": {},
     "output_type": "execute_result"
    }
   ],
   "source": [
    "sample1 = [sample1_1,sample2_1]\n",
    "sample2= [sample1_2,sample2_2]\n",
    "data = {\n",
    "    \"sent1\":sample1,\n",
    "    \"sent2\":sample2,\n",
    "    \"similarity\":SIM\n",
    "}\n",
    "df = pd.DataFrame(data , columns=[\"sent1\",\"sent2\",\"similarity\"])\n",
    "\n",
    "df"
   ]
  },
  {
   "cell_type": "code",
   "execution_count": null,
   "metadata": {},
   "outputs": [],
   "source": []
  }
 ],
 "metadata": {
  "kernelspec": {
   "display_name": "Python 3",
   "language": "python",
   "name": "python3"
  },
  "language_info": {
   "codemirror_mode": {
    "name": "ipython",
    "version": 3
   },
   "file_extension": ".py",
   "mimetype": "text/x-python",
   "name": "python",
   "nbconvert_exporter": "python",
   "pygments_lexer": "ipython3",
   "version": "3.7.0"
  }
 },
 "nbformat": 4,
 "nbformat_minor": 4
}
