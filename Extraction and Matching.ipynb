{
 "cells": [
  {
   "cell_type": "markdown",
   "metadata": {},
   "source": [
    "# Extracting Attributes"
   ]
  },
  {
   "cell_type": "raw",
   "metadata": {},
   "source": [
    "## Sample text from Supply and Demand Side"
   ]
  },
  {
   "cell_type": "code",
   "execution_count": 1,
   "metadata": {},
   "outputs": [],
   "source": [
    "sample_supply=[\"I am a caring and kind person with a sound knowledgeable of child development and childrens needs at the different stages. I have worked in child care environments where I was responsible for creating a stimulating, encouraging, safe atmosphere for each child & their individual needs. I have skills in supporting babies and children age upto 12 yrs and am genuinely passionate about providing the best child care and experienced in play activities .I also have good experience with children of 1 2 yrs I have an excellent record of working successfully with families in different settings. I take pride in being able to handle difficult situations sympathetically but with professionalism.Key Skills:.Extensive child care experience.Ability to prioritise effectively.Strong childcare and play skills.Excellent communication skills.Proven experience of working successfully in difficult and varied circumstances See resume for more details.Look forward to hearing from all you busy mums & dads ?\"]\n",
    "sample_demand=[\"Our Family We are a busy family of four. Our son is 7 yrs old and loves soccer, school and play dates with his friends. Our daughter is 5yrs old and loves animals, the outdoors and hanging out with her brother. Our children attend Killarney Heights primary school and have several activities outside of school, mostly soccer training, swimming and tennis. Both mum and dad work full time. We live in a nice house in French Forest with lovely neighbours and great cafes, shops, playground nearby,Your Duties This will entail picking the children up after school and taking them to their various activities, cooking/preparing dinner, bath and story time so you should be good at communication.Our Perfect Caregiver We are looking for a caring and responsible nanny to look after our children after school so nanny should also be knowledgeable. You should be responsible, attentive and fun.\"]"
   ]
  },
  {
   "cell_type": "markdown",
   "metadata": {},
   "source": [
    "## Keywords to look for in sample text "
   ]
  },
  {
   "cell_type": "code",
   "execution_count": 2,
   "metadata": {},
   "outputs": [],
   "source": [
    "keywords = ['caring','kind','attentive','responsible','experiences','Excellent','knowledgeable','Experienced','animals','outdoors','Duties','Pets','Dogs']"
   ]
  },
  {
   "cell_type": "markdown",
   "metadata": {},
   "source": [
    "### Looking for Ages/Family size and Location in Sample Text"
   ]
  },
  {
   "cell_type": "code",
   "execution_count": 3,
   "metadata": {},
   "outputs": [],
   "source": [
    "AGE_SUPPLY = []\n",
    "LOC_SUPPLY = []\n",
    "\n",
    "AGE_DEMAND = []\n",
    "LOC_DEMAND = []"
   ]
  },
  {
   "cell_type": "markdown",
   "metadata": {},
   "source": [
    "### Imports"
   ]
  },
  {
   "cell_type": "code",
   "execution_count": 4,
   "metadata": {},
   "outputs": [],
   "source": [
    "import nltk\n",
    "from nltk.tokenize import word_tokenize\n",
    "from nltk.tag import pos_tag\n",
    "from nltk.corpus import stopwords\n",
    "import string\n",
    "import spacy "
   ]
  },
  {
   "cell_type": "markdown",
   "metadata": {},
   "source": [
    "### Preprocessing of Sample Text and Keywords"
   ]
  },
  {
   "cell_type": "code",
   "execution_count": 5,
   "metadata": {},
   "outputs": [],
   "source": [
    "def to_lower(data):\n",
    "    for i,word in enumerate(data):\n",
    "        data[i] =word.lower()\n",
    "    return data \n",
    "\n",
    "keywords = to_lower(keywords)\n",
    "sample_demand = to_lower(sample_demand)\n",
    "sample_supply = to_lower(sample_supply)"
   ]
  },
  {
   "cell_type": "code",
   "execution_count": 6,
   "metadata": {},
   "outputs": [],
   "source": [
    "def remove_punct(text):\n",
    "    text_nopunct = \"\".join([char for char in text if char not in string.punctuation])# It will discard all punctuations\n",
    "    return text_nopunct\n",
    "\n",
    "sample_demand = remove_punct(sample_demand)\n",
    "sample_supply = remove_punct(sample_supply)"
   ]
  },
  {
   "cell_type": "markdown",
   "metadata": {},
   "source": [
    "\n",
    "### Using Spacy for Entity Extraction"
   ]
  },
  {
   "cell_type": "code",
   "execution_count": 7,
   "metadata": {},
   "outputs": [],
   "source": [
    "def attribute_extract(doc):\n",
    "    AGE=[]\n",
    "    LOC=[]\n",
    "    for ent in doc.ents: \n",
    "        if ent.label_ == 'LOC':\n",
    "            LOC.append(ent.text)\n",
    "        elif ent.label_ == 'CARDINAL':\n",
    "            # FOR Converting String to int \n",
    "            if ent.text =='one':\n",
    "                AGE.append(1)\n",
    "            elif ent.text =='two':\n",
    "                AGE.append(2)\n",
    "            elif ent.text =='three':\n",
    "                AGE.append(3)\n",
    "            elif ent.text =='four':\n",
    "                AGE.append(4)\n",
    "            elif ent.text =='five':\n",
    "                AGE.append(5)\n",
    "            elif ent.text =='six':\n",
    "                AGE.append(6)\n",
    "            elif ent.text =='seven':\n",
    "                AGE.append(7)\n",
    "            elif ent.text =='eight':\n",
    "                AGE.append(8)\n",
    "            elif ent.text =='nine':\n",
    "                AGE.append(9)\n",
    "            else:\n",
    "                AGE.append(ent.text)\n",
    "    return LOC,AGE "
   ]
  },
  {
   "cell_type": "code",
   "execution_count": 8,
   "metadata": {},
   "outputs": [],
   "source": [
    "nlp = spacy.load('en_core_web_sm') \n",
    "doc = nlp(sample_supply) \n",
    "LOC_SUPPLY,AGE_SUPPLY = attribute_extract(doc)\n"
   ]
  },
  {
   "cell_type": "code",
   "execution_count": 9,
   "metadata": {},
   "outputs": [],
   "source": [
    "nlp = spacy.load('en_core_web_sm') \n",
    "doc = nlp(sample_demand) \n",
    "\n",
    "LOC_DEMAND,AGE_DEMAND = attribute_extract(doc)\n"
   ]
  },
  {
   "cell_type": "markdown",
   "metadata": {},
   "source": [
    "### Creating DataFrame"
   ]
  },
  {
   "cell_type": "code",
   "execution_count": 10,
   "metadata": {},
   "outputs": [],
   "source": [
    "import pandas as pd \n",
    "\n",
    "Age = [AGE_SUPPLY,AGE_DEMAND]\n",
    "data = {\n",
    "    \"data\":[sample_supply,sample_demand],\n",
    "    \"Age\": Age,\n",
    "}\n",
    "df = pd.DataFrame(data , columns=[\"data\",\"Age\"])\n"
   ]
  },
  {
   "cell_type": "markdown",
   "metadata": {},
   "source": [
    "### Extracting Attributes from supply and demand text"
   ]
  },
  {
   "cell_type": "code",
   "execution_count": 11,
   "metadata": {},
   "outputs": [],
   "source": [
    "#PLURAL NOUNS ,ADJECTIVES ,Nouns\n",
    "keys = ['NNS','JJ','NN']\n",
    "\n",
    "def tags(sent):\n",
    "    sent = nltk.word_tokenize(sent)\n",
    "    sent = nltk.pos_tag(sent)\n",
    "    return sent"
   ]
  },
  {
   "cell_type": "code",
   "execution_count": 12,
   "metadata": {},
   "outputs": [],
   "source": [
    "sent = tags(sample_demand)\n",
    "attr_demand =[]\n",
    "for i in sent:\n",
    "    if i[1] in keys:\n",
    "        attr_demand.append(i[0])\n",
    "final_demand = []\n",
    "for i in attr_demand:\n",
    "    if i in keywords:\n",
    "        final_demand.append(i)\n"
   ]
  },
  {
   "cell_type": "code",
   "execution_count": 13,
   "metadata": {},
   "outputs": [],
   "source": [
    "sent = tags(sample_supply)\n",
    "\n",
    "attr_supply =[]\n",
    "for i in sent:\n",
    "    if i[1] in  keys:\n",
    "        attr_supply.append(i[0])\n",
    "\n",
    "final_supply = []\n",
    "for i in attr_supply:\n",
    "    if i in keywords:\n",
    "        final_supply.append(i)\n"
   ]
  },
  {
   "cell_type": "code",
   "execution_count": 14,
   "metadata": {},
   "outputs": [],
   "source": [
    "attr = [final_supply,final_demand]\n",
    "df['Attributes'] = attr"
   ]
  },
  {
   "cell_type": "code",
   "execution_count": 15,
   "metadata": {
    "scrolled": true
   },
   "outputs": [
    {
     "data": {
      "text/html": [
       "<div>\n",
       "<style scoped>\n",
       "    .dataframe tbody tr th:only-of-type {\n",
       "        vertical-align: middle;\n",
       "    }\n",
       "\n",
       "    .dataframe tbody tr th {\n",
       "        vertical-align: top;\n",
       "    }\n",
       "\n",
       "    .dataframe thead th {\n",
       "        text-align: right;\n",
       "    }\n",
       "</style>\n",
       "<table border=\"1\" class=\"dataframe\">\n",
       "  <thead>\n",
       "    <tr style=\"text-align: right;\">\n",
       "      <th></th>\n",
       "      <th>data</th>\n",
       "      <th>Age</th>\n",
       "      <th>Attributes</th>\n",
       "    </tr>\n",
       "  </thead>\n",
       "  <tbody>\n",
       "    <tr>\n",
       "      <th>0</th>\n",
       "      <td>i am a caring and kind person with a sound kno...</td>\n",
       "      <td>[1]</td>\n",
       "      <td>[caring, kind, knowledgeable, responsible, exc...</td>\n",
       "    </tr>\n",
       "    <tr>\n",
       "      <th>1</th>\n",
       "      <td>our family we are a busy family of four. our s...</td>\n",
       "      <td>[4, 7]</td>\n",
       "      <td>[animals, outdoors, duties, caring, responsibl...</td>\n",
       "    </tr>\n",
       "  </tbody>\n",
       "</table>\n",
       "</div>"
      ],
      "text/plain": [
       "                                                data     Age  \\\n",
       "0  i am a caring and kind person with a sound kno...     [1]   \n",
       "1  our family we are a busy family of four. our s...  [4, 7]   \n",
       "\n",
       "                                          Attributes  \n",
       "0  [caring, kind, knowledgeable, responsible, exc...  \n",
       "1  [animals, outdoors, duties, caring, responsibl...  "
      ]
     },
     "execution_count": 15,
     "metadata": {},
     "output_type": "execute_result"
    }
   ],
   "source": [
    "df.head()"
   ]
  },
  {
   "cell_type": "code",
   "execution_count": null,
   "metadata": {},
   "outputs": [],
   "source": []
  },
  {
   "cell_type": "code",
   "execution_count": null,
   "metadata": {},
   "outputs": [],
   "source": []
  },
  {
   "cell_type": "markdown",
   "metadata": {},
   "source": [
    "##  Matching "
   ]
  },
  {
   "cell_type": "code",
   "execution_count": 16,
   "metadata": {},
   "outputs": [
    {
     "data": {
      "text/html": [
       "<div>\n",
       "<style scoped>\n",
       "    .dataframe tbody tr th:only-of-type {\n",
       "        vertical-align: middle;\n",
       "    }\n",
       "\n",
       "    .dataframe tbody tr th {\n",
       "        vertical-align: top;\n",
       "    }\n",
       "\n",
       "    .dataframe thead th {\n",
       "        text-align: right;\n",
       "    }\n",
       "</style>\n",
       "<table border=\"1\" class=\"dataframe\">\n",
       "  <thead>\n",
       "    <tr style=\"text-align: right;\">\n",
       "      <th></th>\n",
       "      <th>data</th>\n",
       "      <th>Age</th>\n",
       "      <th>Attributes</th>\n",
       "    </tr>\n",
       "  </thead>\n",
       "  <tbody>\n",
       "    <tr>\n",
       "      <th>0</th>\n",
       "      <td>i am a caring and kind person with a sound kno...</td>\n",
       "      <td>[1]</td>\n",
       "      <td>[caring, kind, knowledgeable, responsible, exc...</td>\n",
       "    </tr>\n",
       "    <tr>\n",
       "      <th>1</th>\n",
       "      <td>our family we are a busy family of four. our s...</td>\n",
       "      <td>[4, 7]</td>\n",
       "      <td>[animals, outdoors, duties, caring, responsibl...</td>\n",
       "    </tr>\n",
       "  </tbody>\n",
       "</table>\n",
       "</div>"
      ],
      "text/plain": [
       "                                                data     Age  \\\n",
       "0  i am a caring and kind person with a sound kno...     [1]   \n",
       "1  our family we are a busy family of four. our s...  [4, 7]   \n",
       "\n",
       "                                          Attributes  \n",
       "0  [caring, kind, knowledgeable, responsible, exc...  \n",
       "1  [animals, outdoors, duties, caring, responsibl...  "
      ]
     },
     "execution_count": 16,
     "metadata": {},
     "output_type": "execute_result"
    }
   ],
   "source": [
    "df.head() "
   ]
  },
  {
   "cell_type": "code",
   "execution_count": 17,
   "metadata": {},
   "outputs": [],
   "source": [
    "THRESHOLD_FOR_MATCHING = 3"
   ]
  },
  {
   "cell_type": "code",
   "execution_count": 18,
   "metadata": {},
   "outputs": [
    {
     "name": "stdout",
     "output_type": "stream",
     "text": [
      "You Found a Match\n"
     ]
    }
   ],
   "source": [
    "\n",
    "count=0\n",
    "for word in final_supply:\n",
    "    if word in final_demand:\n",
    "        count+=1\n",
    "\n",
    "if count>=THRESHOLD_FOR_MATCHING:\n",
    "    print('You Found a Match')"
   ]
  }
 ],
 "metadata": {
  "kernelspec": {
   "display_name": "Python 3",
   "language": "python",
   "name": "python3"
  },
  "language_info": {
   "codemirror_mode": {
    "name": "ipython",
    "version": 3
   },
   "file_extension": ".py",
   "mimetype": "text/x-python",
   "name": "python",
   "nbconvert_exporter": "python",
   "pygments_lexer": "ipython3",
   "version": "3.7.0"
  }
 },
 "nbformat": 4,
 "nbformat_minor": 4
}
